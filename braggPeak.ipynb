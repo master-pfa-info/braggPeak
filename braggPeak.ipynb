{
 "cells": [
  {
   "cell_type": "markdown",
   "metadata": {},
   "source": [
    "The purpose of this project is to calculate the range of heavy charged particles in matter. \n",
    "\n",
    "# Energy loss of charged particles\n",
    "\n",
    "When travelling in matter, heavy charged particles lose energy by interacting with atomic electrons. Their energy loss is described by the Bethe formula:\n",
    "\n",
    "$$-\\frac{dE}{dx} = \\frac{1}{4\\pi\\varepsilon_0^2}NZ\\frac{z^2e^4}{m_e c^2 \\beta^2}\\left[ln\\left(\\frac{2m_ec^2\\gamma^2\\beta^2}{I}\\right) - \\beta^2\\right]$$\n",
    "\n",
    "where $N$ is the atom density of the target, $Z$ the charge of target nuclei, $z$ the charge of the incoming heavy charged particle, $m_e$ the mass of the electron, $\\gamma$ the Lorentz factor, $\\beta=v/c$ and $I$ the mean excitation energy of target atoms. \n",
    "\n",
    "Using $r_e = \\frac{e^2}{4\\pi\\varepsilon_0 m_e c^2}$ ($r_e$ is the electron classical radius) and $N_e=NZ$ ($N_e$ is the electron density, i.e. the number of electrons per unit volume), the Bethe formula can be written as:\n",
    "\n",
    "$$-\\frac{dE}{dx} = 4\\pi m_e c^2 r_e^2 N_e\\frac{z^2}{\\beta^2}\\left[ln\\left(\\frac{2m_ec^2\\gamma^2\\beta^2}{I}\\right) - \\beta^2\\right]$$\n",
    "\n",
    "# Range\n",
    "\n",
    "Using the Bethe formula, write a program that computes the range of protons in water. We will take $I=78$ eV and $N_e=\\frac{\\rho_{water}N_A*10}{18}=3.34\\times 10^{23}$ electrons per cm$^{3}$ (in this formula, $\\rho$ is the density of water, $N_A$ the Avogadro's constant, $10$ the number of electrons per molecule and $18$ the mass of one mole ($18=2\\times1+16$)."
   ]
  },
  {
   "cell_type": "code",
   "execution_count": null,
   "metadata": {
    "collapsed": true
   },
   "outputs": [],
   "source": []
  }
 ],
 "metadata": {
  "kernelspec": {
   "display_name": "Python 3",
   "language": "python",
   "name": "python3"
  },
  "language_info": {
   "codemirror_mode": {
    "name": "ipython",
    "version": 3
   },
   "file_extension": ".py",
   "mimetype": "text/x-python",
   "name": "python",
   "nbconvert_exporter": "python",
   "pygments_lexer": "ipython3",
   "version": "3.6.1"
  }
 },
 "nbformat": 4,
 "nbformat_minor": 2
}
